{
 "cells": [
  {
   "cell_type": "code",
   "execution_count": 1,
   "id": "proved-stockholm",
   "metadata": {},
   "outputs": [
    {
     "ename": "ModuleNotFoundError",
     "evalue": "No module named 'signal_models_torch'",
     "output_type": "error",
     "traceback": [
      "\u001b[0;31m---------------------------------------------------------------------------\u001b[0m",
      "\u001b[0;31mModuleNotFoundError\u001b[0m                       Traceback (most recent call last)",
      "\u001b[0;32m<ipython-input-1-703b2ed095e9>\u001b[0m in \u001b[0;36m<module>\u001b[0;34m\u001b[0m\n\u001b[1;32m      7\u001b[0m \u001b[0;32mfrom\u001b[0m \u001b[0mtorch\u001b[0m\u001b[0;34m.\u001b[0m\u001b[0mutils\u001b[0m\u001b[0;34m.\u001b[0m\u001b[0mdata\u001b[0m \u001b[0;32mimport\u001b[0m \u001b[0mDataset\u001b[0m\u001b[0;34m,\u001b[0m \u001b[0mDataLoader\u001b[0m\u001b[0;34m\u001b[0m\u001b[0;34m\u001b[0m\u001b[0m\n\u001b[1;32m      8\u001b[0m \u001b[0;32mfrom\u001b[0m \u001b[0msklearn\u001b[0m\u001b[0;34m.\u001b[0m\u001b[0mmodel_selection\u001b[0m \u001b[0;32mimport\u001b[0m \u001b[0mtrain_test_split\u001b[0m\u001b[0;34m\u001b[0m\u001b[0;34m\u001b[0m\u001b[0m\n\u001b[0;32m----> 9\u001b[0;31m \u001b[0;32mfrom\u001b[0m \u001b[0msignal_models_torch\u001b[0m \u001b[0;32mimport\u001b[0m \u001b[0mscale_sig\u001b[0m\u001b[0;34m,\u001b[0m\u001b[0mclean_sig\u001b[0m\u001b[0;34m,\u001b[0m\u001b[0mECG_Dataset\u001b[0m\u001b[0;34m,\u001b[0m\u001b[0mConvSig\u001b[0m\u001b[0;34m,\u001b[0m\u001b[0mTransformerModel\u001b[0m\u001b[0;34m,\u001b[0m\u001b[0membed_winowed_ecg\u001b[0m\u001b[0;34m,\u001b[0m\u001b[0mPositionalEncoding\u001b[0m\u001b[0;34m\u001b[0m\u001b[0;34m\u001b[0m\u001b[0m\n\u001b[0m\u001b[1;32m     10\u001b[0m \u001b[0;32mfrom\u001b[0m \u001b[0mtorch\u001b[0m\u001b[0;34m.\u001b[0m\u001b[0mutils\u001b[0m\u001b[0;34m.\u001b[0m\u001b[0mtensorboard\u001b[0m \u001b[0;32mimport\u001b[0m \u001b[0mSummaryWriter\u001b[0m\u001b[0;34m\u001b[0m\u001b[0;34m\u001b[0m\u001b[0m\n\u001b[1;32m     11\u001b[0m \u001b[0;32mfrom\u001b[0m \u001b[0mtorch\u001b[0m\u001b[0;34m.\u001b[0m\u001b[0mnn\u001b[0m \u001b[0;32mimport\u001b[0m \u001b[0mTransformerEncoder\u001b[0m\u001b[0;34m,\u001b[0m \u001b[0mTransformerEncoderLayer\u001b[0m\u001b[0;34m\u001b[0m\u001b[0;34m\u001b[0m\u001b[0m\n",
      "\u001b[0;31mModuleNotFoundError\u001b[0m: No module named 'signal_models_torch'"
     ]
    }
   ],
   "source": [
    "import os \n",
    "os.environ['CUDA_VISIBLE_DEVICES'] = \"5\"\n",
    "import math\n",
    "import torch\n",
    "import torch.nn as nn\n",
    "import torch.nn.functional as F\n",
    "from torch.utils.data import Dataset, DataLoader\n",
    "from sklearn.model_selection import train_test_split\n",
    "from signal_models_torch import scale_sig,clean_sig,ECG_Dataset,ConvSig,TransformerModel,embed_winowed_ecg,PositionalEncoding\n",
    "from torch.utils.tensorboard import SummaryWriter\n",
    "from torch.nn import TransformerEncoder, TransformerEncoderLayer\n",
    "from torch.nn.functional import interpolate \n",
    "import neurokit2 as nk\n",
    "import pandas as pd\n",
    "import matplotlib.pyplot as plt\n",
    "import ecg_plot\n",
    "import numpy as np\n",
    "plt.rcParams[\"figure.figsize\"] = (10,4)\n",
    "device = torch.device(\"cuda:0\" if torch.cuda.is_available() else \"cpu\")"
   ]
  },
  {
   "cell_type": "code",
   "execution_count": null,
   "id": "unexpected-spirit",
   "metadata": {},
   "outputs": [],
   "source": [
    "signal_models_torch"
   ]
  },
  {
   "cell_type": "code",
   "execution_count": null,
   "id": "isolated-republican",
   "metadata": {},
   "outputs": [],
   "source": [
    "# how to select a subset?\n",
    "pos_num = 1000\n",
    "neg_num = 10000\n",
    "\n",
    "afib_df = pd.read_csv(\"csvs/afib_df.csv\").loc[0:pos_num]\n",
    "stemi_df = pd.read_csv(\"csvs/stemi_df.csv\").loc[0:pos_num]\n",
    "both_df = pd.read_csv(\"csvs/both_df.csv\").loc[0:pos_num]\n",
    "none_df = pd.read_csv(\"csvs/none_df.csv\").loc[0:neg_num]\n",
    "subset = pd.concat([afib_df,stemi_df,none_df,both_df]).sample(frac=1).reset_index(drop = True)"
   ]
  }
 ],
 "metadata": {
  "kernelspec": {
   "display_name": "Python 3",
   "language": "python",
   "name": "python3"
  },
  "language_info": {
   "codemirror_mode": {
    "name": "ipython",
    "version": 3
   },
   "file_extension": ".py",
   "mimetype": "text/x-python",
   "name": "python",
   "nbconvert_exporter": "python",
   "pygments_lexer": "ipython3",
   "version": "3.8.8"
  }
 },
 "nbformat": 4,
 "nbformat_minor": 5
}
